{
 "cells": [
  {
   "cell_type": "code",
   "execution_count": 246,
   "metadata": {},
   "outputs": [],
   "source": [
    "from sklearn.preprocessing import StandardScaler\n",
    "from sklearn import metrics\n",
    "from sklearn.model_selection import train_test_split\n",
    "from sklearn.linear_model import LogisticRegression\n",
    "import pandas as pd\n",
    "import numpy as np\n",
    "import seaborn as sns\n",
    "import matplotlib.pyplot as plt\n",
    "from sklearn.metrics import confusion_matrix\n",
    "from sklearn.preprocessing import normalize\n",
    "from sklearn.decomposition import PCA\n",
    "from sklearn.svm import SVC "
   ]
  },
  {
   "cell_type": "code",
   "execution_count": 247,
   "metadata": {},
   "outputs": [],
   "source": [
    "# Dataset\n",
    "data=pd.read_csv(\"C://vit//ml//project//all.csv\")\n",
    "X=data.drop('target',axis=1)\n",
    "y=data['target']"
   ]
  },
  {
   "cell_type": "code",
   "execution_count": 248,
   "metadata": {},
   "outputs": [],
   "source": [
    "#split\n",
    "X_train, X_test, y_train, y_test= train_test_split(X,y,test_size=.2, random_state=122)"
   ]
  },
  {
   "cell_type": "code",
   "execution_count": 249,
   "metadata": {},
   "outputs": [],
   "source": [
    "#PRE_PROCESSING\n",
    "scaler = StandardScaler()\n",
    "# Fit on training set only.\n",
    "scaler.fit(X_train)\n",
    "# Apply transform to both the training set and the test set.\n",
    "X_train = scaler.transform(X_train)\n",
    "X_test = scaler.transform(X_test)\n",
    "class_weight = {1: 5.66, 2:8.7 , 3:1}\n",
    "from imblearn.over_sampling import SMOTE \n",
    "sm = SMOTE(random_state = 2) \n",
    "X_train, y_train = sm.fit_sample(X_train, y_train.ravel())"
   ]
  },
  {
   "cell_type": "code",
   "execution_count": 250,
   "metadata": {},
   "outputs": [
    {
     "data": {
      "text/plain": [
       "LogisticRegression(C=1.0, class_weight={1: 5.66, 2: 8.7, 3: 1}, dual=False,\n",
       "                   fit_intercept=True, intercept_scaling=1, l1_ratio=None,\n",
       "                   max_iter=1000, multi_class='ovr', n_jobs=None, penalty='l2',\n",
       "                   random_state=None, solver='liblinear', tol=0.0001, verbose=0,\n",
       "                   warm_start=False)"
      ]
     },
     "execution_count": 250,
     "metadata": {},
     "output_type": "execute_result"
    }
   ],
   "source": [
    "# LOGISTIC REGRESSION\n",
    "model = LogisticRegression(solver = 'liblinear',max_iter=1000,multi_class='ovr',class_weight=class_weight)\n",
    "model.fit(X_train, y_train)"
   ]
  },
  {
   "cell_type": "code",
   "execution_count": 251,
   "metadata": {
    "scrolled": false
   },
   "outputs": [
    {
     "name": "stdout",
     "output_type": "stream",
     "text": [
      "With logistic regression\n",
      "\n",
      "Misclassified samples: 33\n",
      "Accuracy: 0.776\n"
     ]
    },
    {
     "data": {
      "image/png": "[encoded data removed]",
      "text/plain": [
       "<Figure size 360x360 with 2 Axes>"
      ]
     },
     "metadata": {
      "needs_background": "light"
     },
     "output_type": "display_data"
    },
    {
     "name": "stdout",
     "output_type": "stream",
     "text": [
      "[[ 9  8  0]\n",
      " [ 3  9  1]\n",
      " [16  5 96]]\n"
     ]
    }
   ],
   "source": [
    "print('With logistic regression\\n')\n",
    "# use the model to make predictions with the test data\n",
    "lr_pred = model.predict(X_test)\n",
    "# how did our model perform?\n",
    "count_misclassified = (y_test != lr_pred).sum()\n",
    "print('Misclassified samples: {}'.format(count_misclassified))\n",
    "accuracy = metrics.accuracy_score(y_test, lr_pred)\n",
    "print('Accuracy: {:.3f}'.format(accuracy))\n",
    "cm = confusion_matrix(y_test, lr_pred)\n",
    "LABELS = ['Alcohol', 'Drug','Normal']\n",
    "plt.figure(figsize=(5, 5))\n",
    "sns.heatmap(cm, xticklabels=LABELS, yticklabels=LABELS, annot=True, fmt=\"d\");\n",
    "plt.ylabel('True class')\n",
    "plt.xlabel('Predicted class')\n",
    "plt.show()\n",
    "print(cm)"
   ]
  },
  {
   "cell_type": "code",
   "execution_count": 252,
   "metadata": {},
   "outputs": [
    {
     "name": "stderr",
     "output_type": "stream",
     "text": [
      "c:\\users\\akanksha\\appdata\\local\\programs\\python\\python36-32\\lib\\site-packages\\sklearn\\svm\\base.py:193: FutureWarning: The default value of gamma will change from 'auto' to 'scale' in version 0.22 to account better for unscaled features. Set gamma explicitly to 'auto' or 'scale' to avoid this warning.\n",
      "  \"avoid this warning.\", FutureWarning)\n"
     ]
    },
    {
     "data": {
      "text/plain": [
       "SVC(C=1.0, cache_size=200, class_weight={1: 5.66, 2: 8.7, 3: 1}, coef0=0.0,\n",
       "    decision_function_shape='ovr', degree=3, gamma='auto_deprecated',\n",
       "    kernel='rbf', max_iter=-1, probability=False, random_state=None,\n",
       "    shrinking=True, tol=0.001, verbose=False)"
      ]
     },
     "execution_count": 252,
     "metadata": {},
     "output_type": "execute_result"
    }
   ],
   "source": [
    "# SVM\n",
    "model = SVC(kernel='rbf',class_weight=class_weight)\n",
    "model.fit(X_train, y_train)"
   ]
  },
  {
   "cell_type": "code",
   "execution_count": 253,
   "metadata": {},
   "outputs": [
    {
     "name": "stdout",
     "output_type": "stream",
     "text": [
      "With SVM\n",
      "\n",
      "Misclassified samples: 28\n",
      "Accuracy: 0.810\n"
     ]
    },
    {
     "data": {
      "image/png": "[encoded data removed]",
      "text/plain": [
       "<Figure size 360x360 with 2 Axes>"
      ]
     },
     "metadata": {
      "needs_background": "light"
     },
     "output_type": "display_data"
    },
    {
     "name": "stdout",
     "output_type": "stream",
     "text": [
      "[[12  5  0]\n",
      " [ 4  9  0]\n",
      " [14  5 98]]\n"
     ]
    }
   ],
   "source": [
    "print('With SVM\\n')\n",
    "# use the model to make predictions with the test data\n",
    "svm_pred = model.predict(X_test)\n",
    "# how did our model perform?\n",
    "count_misclassified = (y_test != svm_pred).sum()\n",
    "print('Misclassified samples: {}'.format(count_misclassified))\n",
    "accuracy = metrics.accuracy_score(y_test, svm_pred)\n",
    "print('Accuracy: {:.3f}'.format(accuracy))\n",
    "cm = confusion_matrix(y_test, svm_pred)\n",
    "LABELS = ['Alcohol', 'Drug','Normal']\n",
    "plt.figure(figsize=(5, 5))\n",
    "sns.heatmap(cm, xticklabels=LABELS, yticklabels=LABELS, annot=True, fmt=\"d\");\n",
    "plt.ylabel('True class')\n",
    "plt.xlabel('Predicted class')\n",
    "plt.show()\n",
    "print(cm)"
   ]
  },
  {
   "cell_type": "code",
   "execution_count": 254,
   "metadata": {},
   "outputs": [
    {
     "name": "stdout",
     "output_type": "stream",
     "text": [
      "Logistic SCORES\n",
      "\n",
      "Precision: 0.861\n",
      "Recall: 0.776\n",
      "F1 score: 0.806\n",
      "\n",
      "\n",
      "SVM SCORES\n",
      "\n",
      "Precision: 0.646\n",
      "Recall: 0.490\n",
      "F1 score: 0.543\n"
     ]
    }
   ],
   "source": [
    "print('Logistic SCORES\\n')\n",
    "# precision tp / (tp + fp)\n",
    "precision = metrics.precision_score(y_test, lr_pred,average='weighted')\n",
    "print('Precision: %.3f' % precision)\n",
    "# recall: tp / (tp + fn)\n",
    "recall = metrics.recall_score(y_test, lr_pred,average='weighted')\n",
    "print('Recall: %.3f' % recall)\n",
    "# f1: 2 tp / (2 tp + fp + fn)\n",
    "f1 = metrics.f1_score(y_test, lr_pred,average='weighted')\n",
    "print('F1 score: %.3f' % f1)\n",
    "print('\\n\\nSVM SCORES\\n')\n",
    "# precision tp / (tp + fp)\n",
    "precision = metrics.precision_score(y_test, svm_predictions,average='weighted')\n",
    "print('Precision: %.3f' % precision)\n",
    "# recall: tp / (tp + fn)\n",
    "recall = metrics.recall_score(y_test, svm_predictions,average='weighted')\n",
    "print('Recall: %.3f' % recall)\n",
    "# f1: 2 tp / (2 tp + fp + fn)\n",
    "f1 = metrics.f1_score(y_test, svm_predictions,average='weighted')\n",
    "print('F1 score: %.3f' % f1)"
   ]
  },
  {
   "cell_type": "code",
   "execution_count": 255,
   "metadata": {},
   "outputs": [
    {
     "name": "stdout",
     "output_type": "stream",
     "text": [
      "SVM\n",
      "\n",
      "\n",
      "              precision    recall  f1-score   support\n",
      "\n",
      "           1       0.40      0.71      0.51        17\n",
      "           2       0.47      0.69      0.56        13\n",
      "           3       1.00      0.84      0.91       117\n",
      "\n",
      "    accuracy                           0.81       147\n",
      "   macro avg       0.62      0.75      0.66       147\n",
      "weighted avg       0.88      0.81      0.83       147\n",
      "\n",
      "\n",
      "\n",
      "\n",
      "LOGISTIC\n",
      "\n",
      "\n",
      "              precision    recall  f1-score   support\n",
      "\n",
      "           1       0.32      0.53      0.40        17\n",
      "           2       0.41      0.69      0.51        13\n",
      "           3       0.99      0.82      0.90       117\n",
      "\n",
      "    accuracy                           0.78       147\n",
      "   macro avg       0.57      0.68      0.60       147\n",
      "weighted avg       0.86      0.78      0.81       147\n",
      "\n"
     ]
    }
   ],
   "source": [
    "from sklearn.metrics import classification_report\n",
    "print(\"SVM\\n\\n\")\n",
    "cr=classification_report(y_test,svm_pred)\n",
    "print(cr)\n",
    "print(\"\\n\\n\")\n",
    "print(\"LOGISTIC\\n\\n\")\n",
    "cr=classification_report(y_test,lr_pred)\n",
    "print(cr)"
   ]
  },
  {
   "cell_type": "code",
   "execution_count": null,
   "metadata": {},
   "outputs": [],
   "source": []
  }
 ],
 "metadata": {
  "kernelspec": {
   "display_name": "Python 3",
   "language": "python",
   "name": "python3"
  },
  "language_info": {
   "codemirror_mode": {
    "name": "ipython",
    "version": 3
   },
   "file_extension": ".py",
   "mimetype": "text/x-python",
   "name": "python",
   "nbconvert_exporter": "python",
   "pygments_lexer": "ipython3",
   "version": "3.6.1"
  }
 },
 "nbformat": 4,
 "nbformat_minor": 2
}
